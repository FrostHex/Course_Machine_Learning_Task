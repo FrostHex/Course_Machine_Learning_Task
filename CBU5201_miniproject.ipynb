{
 "cells": [
  {
   "cell_type": "markdown",
   "metadata": {},
   "source": [
    "# Machine Learning Mini Project"
   ]
  },
  {
   "cell_type": "markdown",
   "metadata": {
    "id": "ZaGn4ICrfqXZ"
   },
   "source": [
    "# 1 Author\n",
    "\n",
    "**Student Name**:  Jianqi Hui\n",
    "\n",
    "**Student ID**:  221170685\n",
    "\n",
    "**GitHub Repository**: https://github.com/FrostHex/Course_Machine_Learning_Task\n",
    "\n"
   ]
  },
  {
   "cell_type": "markdown",
   "metadata": {
    "id": "o38VQkcdKd6k"
   },
   "source": [
    "# 2 Problem formulation\n",
    "\n",
    "The dataset consist of labelled audio recordings of storytelling. Each audio recording will consist of a story describing a personal experience. Each story might be a true recount or a false recount. Our model need to formulate a method to distinguish whether it's a true story or a deceptive story. \n",
    "\n",
    "The interesting aspect of this task lies in its application of machine learning techniques to the domain of audio processing and natural language understanding. The project aims to develop a model capable of discerning the veracity of personal stories. This involves a combination of signal processing, feature extraction, and the implementation of various machine learning algorithms, making it a multifaceted and challenging problem. Additionally, the task has practical implications in areas such as forensic analysis, psychology, and security, where distinguishing between truthful and deceptive statements is crucial."
   ]
  },
  {
   "cell_type": "markdown",
   "metadata": {
    "id": "bPTSuaB9L2jU"
   },
   "source": [
    "# 3 Methodology\n",
    "\n",
    "My methodolgy is to split the training dataset and validation datatest into a ratio of 8:2, with random choice of allocation where the random seed is associated with the time, so it will maximize the degree of random, to try my best to eliminate the influence of the choice of datasets on the model training process.\n",
    "\n",
    "As for the training and validation model, I will try to use logistic regression and k-means.\n",
    "\n",
    "I will judge my model manly on the accuracy, and also the confusion matrix, and alos include the precision, recall and f1-score."
   ]
  },
  {
   "cell_type": "markdown",
   "metadata": {
    "id": "N3BwrtEdLDit"
   },
   "source": [
    "# 4 Implemented ML prediction pipelines\n",
    "\n",
    "The first stage of my pipeline is to preprocess the audio file using librosa library to convert the audio file into several arrays of float numbers. Then I will use the librosa library to perform the feature extraction, and then implement several methods, like the logistic regression and k-means.\n",
    "\n",
    "The third pipelint is to convert the audio file into text, and then use k means to predict the output.\n",
    "\n",
    "At the end of these pipelines, I will combine these outputes using different weight according to their indivisual performance, to generate the final output."
   ]
  },
  {
   "cell_type": "markdown",
   "metadata": {
    "id": "j1nDXnzYLLH6"
   },
   "source": [
    "## 4.1 Transformation stage\n",
    "\n",
    "I will use the feature extraction from the librosa library. More specifically, I will extract the chroma_stft components, the spectral contrast components and MFCCs (Mel-frequency cepstral coefficients) as three features.\n",
    "It's really hard to decide which features will be useful to distinguish whether the story is true or not, so I think maybe the tone and some pause might be useful, so I think I might choose the frequency compnent analysis.\n"
   ]
  },
  {
   "cell_type": "markdown",
   "metadata": {
    "id": "0F5_kI95LuZ2"
   },
   "source": [
    "## 4.2 Model stage\n",
    "\n",
    "The first thought of mine is to use logistic regression, which is used in our lab and sometimes performed very well, also with prior experience of using it, I decide to give this method a shot.\n",
    "\n",
    "THe second model I will use is k-means. K means Is really good at finding the local minimum of the loss plane, and combining with randomized starting point, it'll be likely to find the global minimum. So I think this method is really worth to try."
   ]
  },
  {
   "cell_type": "markdown",
   "metadata": {},
   "source": [
    "## 4.3 Ensemble stage\n",
    "\n",
    "In this stage, an ensemble approach will be implemented by combining the predictions from both the logistic regression and k-means models. The ensemble method leverages the strengths of each individual model to enhance overall performance. A weighted voting scheme is used, where the weights are determined based on each model's validation performance metrics such as accuracy, precision, recall, and F1-score. This approach aims to improve the robustness and accuracy of the final predictions by mitigating the weaknesses of individual models and capitalizing on their complementary strengths."
   ]
  },
  {
   "cell_type": "markdown",
   "metadata": {
    "id": "HZQPxztuL9AW"
   },
   "source": [
    "# 5 Dataset\n",
    "\n",
    "**Note that I'm using the .pkl file to store the result of the preprocessed data, in order to save the time so I won't need to preprocess them every time I run the model. If you want to validate them, I'll keep the generation code for the .pkl file, so you may set the value of \"activate\" variables in corresponding code block to \"1\" to generate the .pkl file that I'm using. Or you may browse the GitHub repository to download the .pkl files there:** https://github.com/FrostHex/Course_Machine_Learning_Task\n",
    "\n",
    "My methodology for separating the datasets involves a meticulous approach to ensure the integrity and reliability of the model's training and evaluation processes. To begin with, the entire dataset is divided into training and validation subsets using an 80:20 ratio. This split is achieved through a random allocation method, where the random seed is dynamically generated based on the current timestamp. This strategy maximizes randomness and minimizes any potential bias that might arise from a fixed seed, thereby enhancing the generalizability of the model.\n",
    "\n",
    "Ensuring that the training and validation datasets are independent and consist of Independent and Identically Distributed (IID) samples is paramount. By randomizing the split, I aim to distribute various data characteristics evenly across both subsets. This helps in mitigating the risk of the model learning spurious patterns that do not generalize well to unseen data. Additionally, I perform checks to verify the class distribution in both subsets, ensuring that both true and deceptive stories are adequately represented and balanced."
   ]
  },
  {
   "cell_type": "code",
   "execution_count": 1,
   "metadata": {},
   "outputs": [],
   "source": [
    "# pip install librosa\n",
    "# pip install openai-whisper\n",
    "# pip install googletrans==4.0.0-rc1"
   ]
  },
  {
   "cell_type": "code",
   "execution_count": 211,
   "metadata": {},
   "outputs": [],
   "source": [
    "import os\n",
    "import pickle\n",
    "import numpy as np  # For numerical operations\n",
    "import pandas as pd  # For data manipulation\n",
    "import librosa  # For audio processing\n",
    "from sklearn.model_selection import train_test_split  # For splitting the dataset\n",
    "from sklearn.linear_model import LogisticRegression  # For logistic regression model\n",
    "from sklearn.metrics import accuracy_score  # For evaluating the model\n",
    "from sklearn.metrics import precision_score, recall_score, f1_score\n",
    "from sklearn.metrics import confusion_matrix\n",
    "from sklearn.feature_extraction.text import TfidfVectorizer\n",
    "from sklearn.preprocessing import LabelEncoder\n",
    "import warnings\n",
    "from sklearn.cluster import KMeans\n",
    "import seaborn as sns\n",
    "import matplotlib.pyplot as plt\n",
    "import datetime\n",
    "import whisper\n",
    "\n",
    "\n",
    "# Directory containing the audio files\n",
    "audio_dir = 'Datasets/CBU0521DD_stories/'\n",
    "\n",
    "# List to store the audio data\n",
    "audio_data = []\n",
    "audio_label = []\n",
    "\n",
    "# load labels\n",
    "label_file = 'Datasets/CBU0521DD_stories_attributes.csv'\n",
    "df = pd.read_csv(label_file)\n",
    "# print(df.head)\n",
    "df['Story_type'] = df['Story_type'].map({'True Story': 1, 'Deceptive Story': 0})\n",
    "audio_label = df[['Language', 'Story_type']].values.tolist()\n",
    "# print(audio_label) # [['Chinese', 1], ['Chinese', 1], ['Chinese', 1], ...]"
   ]
  },
  {
   "cell_type": "code",
   "execution_count": 162,
   "metadata": {},
   "outputs": [
    {
     "name": "stdout",
     "output_type": "stream",
     "text": [
      "Loaded 100 audio signals.\n"
     ]
    }
   ],
   "source": [
    "# Load each audio file\n",
    "activate = 0\n",
    "\n",
    "if activate == 1:\n",
    "    for i in range(1, 101):\n",
    "        file_path = os.path.join(audio_dir, f'{i:05d}.wav')\n",
    "        audio = librosa.load(file_path)\n",
    "        # print(\"type:\", type(audio)) # type: <class 'tuple'>\n",
    "        audio_data.append(audio)\n",
    "        # print(len(audio_data)) # 1~100\n",
    "        # print(audio_data[i-1]) # (array([0., 0., 0., ..., 0., 0., 0.], dtype=float32), 22050)\n",
    "        # print(audio_data[i-1][0]) # [0. 0. 0. ... 0. 0. 0.]\n",
    "\n",
    "    # Separate audio signals and sample rates\n",
    "    audio_signals = [item[0] for item in audio_data]\n",
    "    sample_rates = [item[1] for item in audio_data]\n",
    "\n",
    "    # Convert audio signals and sample rates to numpy arrays\n",
    "    audio_signals = np.array(audio_signals, dtype=object)\n",
    "    sample_rates = np.array(sample_rates)\n",
    "    print(audio_signals.shape, sample_rates.shape) # (100,) (100,)\n",
    "    print(audio_signals) # 100 array: [array([0.00028484, ..., 0.00029515], dtype=float32) array([0.00028484, ..., 0.00029515], dtype=float32) ...]\n",
    "\n",
    "    # Save the audio data\n",
    "    print(f'Loaded {len(audio_signals)} audio signals.')\n",
    "    with open('audio_signals.pkl', 'wb') as f:\n",
    "        pickle.dump(audio_signals, f)\n",
    "\n",
    "# Load the audio data\n",
    "if os.path.exists('audio_signals.pkl'):\n",
    "    with open('audio_signals.pkl', 'rb') as f:\n",
    "        audio_signals = pickle.load(f)\n",
    "print(f'Loaded {len(audio_signals)} audio signals.') # Loaded 100 audio signals.\n",
    "# print(audio_signals[75].shape) # (3308106,)"
   ]
  },
  {
   "cell_type": "code",
   "execution_count": 163,
   "metadata": {},
   "outputs": [],
   "source": [
    "# Transcribe audio data\n",
    "activate = 0\n",
    "\n",
    "if activate == 1:\n",
    "    # Load the Whisper model\n",
    "    # model = whisper.load_model(\"medium\",device=\"cuda\")\n",
    "    model = whisper.load_model(\"medium\")\t\n",
    "\n",
    "    transcriptions = []\n",
    "\n",
    "    # Load transcriptions from a pickle file if it exists\n",
    "    if os.path.exists('transcriptions.pkl'):\n",
    "        with open('transcriptions.pkl', 'rb') as f:\n",
    "            transcriptions = pickle.load(f)\n",
    "        print(transcriptions)\n",
    "        print(\"len:\", len(transcriptions))\n",
    "\n",
    "    # Transcribe the audio\n",
    "    for i in range(len(transcriptions) + 1, 101):\n",
    "        result = whisper.transcribe(model, audio_signals[i-1])\n",
    "        transcriptions.append(result['text'])\n",
    "\n",
    "        # Save the transcriptions to a pickle file\n",
    "        with open('transcriptions.pkl', 'wb') as f:\n",
    "            pickle.dump(transcriptions, f)\n",
    "\n",
    "        # Print the transcription\n",
    "        print(f'Transcription for audio file {i}: {result[\"text\"]}')\n"
   ]
  },
  {
   "cell_type": "code",
   "execution_count": 164,
   "metadata": {},
   "outputs": [
    {
     "name": "stdout",
     "output_type": "stream",
     "text": [
      "Loaded 100 text signals.\n"
     ]
    }
   ],
   "source": [
    "# Translate Chinese terms in transcriptions into English\n",
    "activate = 0\n",
    "\n",
    "if activate == 1:\n",
    "    from googletrans import Translator\n",
    "\n",
    "    with open('transcriptions.pkl', 'rb') as f:\n",
    "        transcriptions = pickle.load(f)\n",
    "\n",
    "    translated_transcriptions = []\n",
    "\n",
    "    translator = Translator()\n",
    "\n",
    "    for text in transcriptions:\n",
    "        translated_text = translator.translate(text, src='zh-cn', dest='en').text\n",
    "        translated_transcriptions.append(translated_text)\n",
    "\n",
    "    with open('text_signals.pkl', 'wb') as f:\n",
    "        pickle.dump(translated_transcriptions, f)\n",
    "\n",
    "# Load the text signals\n",
    "with open('text_signals.pkl', 'rb') as f:\n",
    "    text_signals = pickle.load(f)\n",
    "    print(f'Loaded {len(text_signals)} text signals.') # Loaded 100 text signals.\n",
    "    # for signal in text_signals:\n",
    "    #     print(signal)"
   ]
  },
  {
   "cell_type": "code",
   "execution_count": 165,
   "metadata": {},
   "outputs": [],
   "source": [
    "def split_data_audio(i):\n",
    "    # Split Data into Training and Testing Sets\n",
    "\n",
    "    # Split the extracted features and corresponding labels into training and testing sets\n",
    "    labels = [label[1] for label in audio_label]\n",
    "    X_train, X_test, y_train, y_test = train_test_split(features_array, labels, test_size=0.2, random_state= int(datetime.datetime.now().timestamp()) % (2**32 - 1)+i)\n",
    "\n",
    "    # Convert labels to numpy arrays\n",
    "    y_train = np.array(y_train)\n",
    "    y_test = np.array(y_test)\n",
    "\n",
    "    return X_train, X_test, y_train, y_test\n",
    "\n",
    "    # Print the shapes of the training and testing sets to verify the split\n",
    "    # print(f'Training set shape: {X_train.shape}, {y_train.shape}') # (80, 32), (80,)\n",
    "    # print(f'Testing set shape: {X_test.shape}, {y_test.shape}') # (20, 32), (20,)\n",
    "\n",
    "def split_data_text(i):\n",
    "    # Split Data into Training and Testing Sets\n",
    "    \n",
    "    # Initialize a label encoder\n",
    "    encoder = LabelEncoder()\n",
    "\n",
    "    # Encode labels to numerical values\n",
    "    labels = [label[0] for label in audio_label]\n",
    "    encoded_labels = encoder.fit_transform(labels)\n",
    "    \n",
    "    X_train, X_test, y_train, y_test = train_test_split(\n",
    "        text_features, \n",
    "        encoded_labels, \n",
    "        test_size=0.2, \n",
    "        random_state=int(datetime.datetime.now().timestamp()) % (2**32 - 1) + i\n",
    "    )\n",
    "    \n",
    "    return X_train, X_test, y_train, y_test"
   ]
  },
  {
   "cell_type": "markdown",
   "metadata": {
    "id": "2qf7GN1aeXJI"
   },
   "source": [
    "# 6 Experiments and results"
   ]
  },
  {
   "cell_type": "code",
   "execution_count": 229,
   "metadata": {},
   "outputs": [
    {
     "name": "stdout",
     "output_type": "stream",
     "text": [
      "Loaded (100, 32) feature data.\n"
     ]
    }
   ],
   "source": [
    "# Extract Features from Audio\n",
    "active = 0\n",
    "\n",
    "if active == 1:\n",
    "    # Function to extract features from audio data\n",
    "    def extract_features(audio):\n",
    "        # Extract MFCCs (Mel-frequency cepstral coefficients)\n",
    "        mfccs = librosa.feature.mfcc(y=audio, n_mfcc=13)\n",
    "        mfccs = np.mean(mfccs.T, axis=0)\n",
    "        \n",
    "        # Extract Chroma features\n",
    "        chroma = librosa.feature.chroma_stft(y=audio)\n",
    "        chroma = np.mean(chroma.T, axis=0)\n",
    "        \n",
    "        # Extract Spectral Contrast\n",
    "        spectral_contrast = librosa.feature.spectral_contrast(y=audio)\n",
    "        spectral_contrast = np.mean(spectral_contrast.T, axis=0)\n",
    "        \n",
    "        # Combine all features into a single feature vector\n",
    "        features = np.hstack([mfccs, chroma, spectral_contrast])\n",
    "        \n",
    "        return features\n",
    "\n",
    "    # List to store extracted features\n",
    "    features_list = []\n",
    "\n",
    "    # Iterate through preprocessed audio data to extract features\n",
    "    for audio in audio_signals:\n",
    "        features = extract_features(audio)\n",
    "        features_list.append(features)\n",
    "\n",
    "    # Convert features list to numpy array\n",
    "    features_array = np.array(features_list)\n",
    "    # print(features_array.shape) # (100, 32)\n",
    "\n",
    "    # Save the feature data\n",
    "    with open ('features_array.pkl', 'wb') as f:\n",
    "        pickle.dump (features_array, f)\n",
    "\n",
    "# Load the feature data\n",
    "if os.path.exists('features_array.pkl'):\n",
    "    with open ('features_array.pkl', 'rb') as f:\n",
    "        features_array = pickle.load(f)\n",
    "        print(f'Loaded {features_array.shape} feature data.') # Loaded (100, 32) feature data.\n"
   ]
  },
  {
   "cell_type": "code",
   "execution_count": 111,
   "metadata": {},
   "outputs": [
    {
     "name": "stdout",
     "output_type": "stream",
     "text": [
      "Average Accuracy over 1000 experiments: 51.09%\n",
      "Average Precision: 0.52\n",
      "Average Recall: 0.51\n",
      "Average F1-score: 0.50\n"
     ]
    }
   ],
   "source": [
    "# Audio data clustering with logistic regression\n",
    "activate = 0\n",
    "\n",
    "if activate == 1:\n",
    "    # Number of experiments\n",
    "    N = 100\n",
    "\n",
    "    # Lists to store the metrics\n",
    "    accuracy_list = []\n",
    "    precision_list = []\n",
    "    recall_list = []\n",
    "    f1_list = []\n",
    "\n",
    "    for i in range(N):\n",
    "        # Split the data\n",
    "        X_train, X_test, y_train, y_test = split_data_audio()\n",
    "        \n",
    "        # Initialize the logistic regression model\n",
    "        logistic_regression_model = LogisticRegression(max_iter=10000)\n",
    "        \n",
    "        # Train the model\n",
    "        logistic_regression_model.fit(X_train, y_train)\n",
    "        \n",
    "        # Predict the labels for the test set\n",
    "        y_pred = logistic_regression_model.predict(X_test)\n",
    "        \n",
    "        # Calculate and store the metrics\n",
    "        accuracy = accuracy_score(y_test, y_pred)\n",
    "        precision = precision_score(y_test, y_pred)\n",
    "        recall = recall_score(y_test, y_pred)\n",
    "        f1 = f1_score(y_test, y_pred)\n",
    "        \n",
    "        accuracy_list.append(accuracy)\n",
    "        precision_list.append(precision)\n",
    "        recall_list.append(recall)\n",
    "        f1_list.append(f1)\n",
    "\n",
    "    # Calculate the average of each metric\n",
    "    avg_accuracy = np.mean(accuracy_list)\n",
    "    avg_precision = np.mean(precision_list)\n",
    "    avg_recall = np.mean(recall_list)\n",
    "    avg_f1 = np.mean(f1_list)\n",
    "\n",
    "    # Print the average metrics\n",
    "    print(f'Average Accuracy over {N} experiments: {avg_accuracy * 100:.2f}%')\n",
    "    print(f'Average Precision: {avg_precision:.2f}')\n",
    "    print(f'Average Recall: {avg_recall:.2f}')\n",
    "    print(f'Average F1-score: {avg_f1:.2f}')"
   ]
  },
  {
   "cell_type": "code",
   "execution_count": 217,
   "metadata": {},
   "outputs": [
    {
     "name": "stdout",
     "output_type": "stream",
     "text": [
      "Average Accuracy over 1000 experiments: 50.30%\n"
     ]
    }
   ],
   "source": [
    "# Use the K-Means algorithm to cluster the text signals\n",
    "warnings.filterwarnings('ignore')\n",
    "\n",
    "# Extract features from text signals using TF-IDF vectorizer\n",
    "vectorizer = TfidfVectorizer()\n",
    "text_features = vectorizer.fit_transform(text_signals).toarray()\n",
    "\n",
    "# Repeat 1000 times and calculate average accuracy\n",
    "N = 1000\n",
    "accuracies = []\n",
    "\n",
    "for i in range(N):\n",
    "    # Split the data\n",
    "    X_train, X_test, y_train, y_test = split_data_text(i)\n",
    "\n",
    "    # Train a KMeans model using the extracted text features\n",
    "    kmeans = KMeans(n_clusters=2, random_state=0, max_iter=1000)\n",
    "    kmeans.fit(X_train)\n",
    "\n",
    "    # Predict the clusters for the test set\n",
    "    y_pred = kmeans.predict(X_test)\n",
    "\n",
    "    y_pred = np.round(y_pred)\n",
    "\n",
    "    # Calculate and store the accuracy of the KMeans model\n",
    "    accuracy = accuracy_score(y_test, y_pred)\n",
    "    accuracies.append(accuracy)\n",
    "\n",
    "# Calculate the average accuracy\n",
    "avg_accuracy = np.mean(accuracies)\n",
    "print(f'Average Accuracy over 1000 experiments: {avg_accuracy * 100:.2f}%')\n"
   ]
  },
  {
   "cell_type": "code",
   "execution_count": 215,
   "metadata": {},
   "outputs": [
    {
     "name": "stdout",
     "output_type": "stream",
     "text": [
      "Average Accuracy over 1000 experiments: 51.46%\n",
      "Average Precision: 0.51\n",
      "Average Recall: 0.83\n",
      "Average F1-score: 0.62\n"
     ]
    },
    {
     "data": {
      "image/png": "[encoded data removed]",
      "text/plain": [
       "<Figure size 800x600 with 2 Axes>"
      ]
     },
     "metadata": {},
     "output_type": "display_data"
    }
   ],
   "source": [
    "# Integrate two piplelines\n",
    "\n",
    "# Perform the experiment 100 times\n",
    "N = 1000\n",
    "\n",
    "# Lists to store the metrics\n",
    "accuracy_list = []\n",
    "precision_list = []\n",
    "recall_list = []\n",
    "f1_list = []\n",
    "\n",
    "for i in range(N):\n",
    "    # Use the logistic regression model for audio data\n",
    "    random_state = int(datetime.datetime.now().timestamp()) % (2**32 - 1) + i\n",
    "    labels = [label[1] for label in audio_label]\n",
    "    X_train, X_test, y_train, y_test = train_test_split(features_array, labels, test_size=0.2, random_state=random_state)\n",
    "    y_train = np.array(y_train)\n",
    "    y_test = np.array(y_test)\n",
    "    logistic_regression_model = LogisticRegression(max_iter=10000)\n",
    "    logistic_regression_model.fit(X_train, y_train)\n",
    "    y_pred_audio = logistic_regression_model.predict_proba(X_test)[:, 1]\n",
    "\n",
    "    # Use the KMeans model for text data\n",
    "    encoder = LabelEncoder()\n",
    "    # Encode labels to numerical values\n",
    "    labels = [label[0] for label in audio_label]\n",
    "    encoded_labels = encoder.fit_transform(labels)\n",
    "    X_train, X_test, y_train, y_test = train_test_split(text_features, encoded_labels, test_size=0.2, random_state=random_state)\n",
    "    kmeans = KMeans(n_clusters=2, random_state=0, max_iter=10000)\n",
    "    kmeans.fit(X_train)\n",
    "    y_pred_text = kmeans.predict(X_test)\n",
    "\n",
    "    # Combine the outputs of the two pipelines\n",
    "    y_pred_combined = (y_pred_audio + y_pred_text / 2) > 0.5\n",
    "    accuracy = accuracy_score(y_test, y_pred_combined)\n",
    "    precision = precision_score(y_test, y_pred_combined)\n",
    "    recall = recall_score(y_test, y_pred_combined)\n",
    "    f1 = f1_score(y_test, y_pred_combined)\n",
    "\n",
    "    accuracy_list.append(accuracy)\n",
    "    precision_list.append(precision)\n",
    "    recall_list.append(recall)\n",
    "    f1_list.append(f1)\n",
    "\n",
    "# Calculate the average of each metric\n",
    "avg_accuracy = np.mean(accuracy_list)\n",
    "avg_precision = np.mean(precision_list)\n",
    "avg_recall = np.mean(recall_list)\n",
    "avg_f1 = np.mean(f1_list)\n",
    "\n",
    "# Print the average metrics\n",
    "print(f'Average Accuracy over {N} experiments: {avg_accuracy * 100:.2f}%')\n",
    "print(f'Average Precision: {avg_precision:.2f}')\n",
    "print(f'Average Recall: {avg_recall:.2f}')\n",
    "print(f'Average F1-score: {avg_f1:.2f}')\n",
    "# Generate the confusion matrix\n",
    "cm = confusion_matrix(y_test, y_pred_combined)\n",
    "\n",
    "# Convert confusion matrix to DataFrame for better visualization\n",
    "cm_df = pd.DataFrame(cm, index=['Actual False', 'Actual True'], columns=['Predicted False', 'Predicted True'])\n",
    "\n",
    "# Plot the confusion matrix\n",
    "plt.figure(figsize=(8, 6))\n",
    "sns.heatmap(cm_df, annot=True, fmt='d', cmap='Blues')\n",
    "plt.title('Confusion Matrix')\n",
    "plt.ylabel('Actual')\n",
    "plt.xlabel('Predicted')\n",
    "plt.show()"
   ]
  },
  {
   "cell_type": "markdown",
   "metadata": {
    "id": "fSrJCR_cekPO"
   },
   "source": [
    "# 7 Conclusions\n",
    "\n",
    "I tried 1000 times of expeirement for each method with time related random seed, to try my best to eliminate the influence of the choice of datasets on the model training process. I can see that the average output of these method is roughly around 50%, and is a little bit better than flipping a coin to decide whether it's true or false. However, I'm pretty glad to see the output of the combined pipeline of these two pipelines, and the result 51.46% is higher than the random guessing by 1.46%.\n",
    "\n",
    "The first method of performing logistic regression achieved an accuracy of 51.09%, and the second method of performing k-means achieved an accuracy of 50.30%. I can see that that both logistic regression and k-means models perform slightly better than random guessing, which would yield an accuracy of 50%. The logistic regression model shows a marginally better performance compared to the k-means model. However, the improvement is minimal, indicating that distinguishing between true and deceptive stories using these methods is challenging. The ensemble approach, which combines the predictions of both models, shows a slight improvement over individual models, suggesting that it tried to mix the strengths of both models can enhance overall performance. Further optimization and exploration of additional features or models may be necessary to achieve more significant improvements in accuracy. Maybe some aggrasive feature extraction method might be useful, like the wavelet transform, or some other method that can extract the feature of the audio file more accurately, rather than just the frequency component for audio file and the TF-IDF vectorizer for the text file that I'm using now."
   ]
  },
  {
   "cell_type": "markdown",
   "metadata": {},
   "source": [
    "# 8 References\n",
    "\n",
    "- libraries and tools:\n",
    "    - os and pickle, to store and read pkl files, in order to decrease the amount of time when testing the model, to cut off the time of loading and pre-process the data again and again.\n",
    "    - numpy, for numerical operations\n",
    "    - pandas, for data manipulation\n",
    "    - librosa, for audio processing\n",
    "    - sklearn, for splitting the dataset, logistic regression model, evaluating the model\n",
    "    - datetime, for the generation of random seed \n",
    "    - whisper, for transfering the audio to text\n",
    "- websites:\n",
    "    - CSDN, the page about basic principles and implementation of K Means and logistic regression."
   ]
  }
 ],
 "metadata": {
  "colab": {
   "provenance": []
  },
  "kernelspec": {
   "display_name": "base",
   "language": "python",
   "name": "python3"
  },
  "language_info": {
   "codemirror_mode": {
    "name": "ipython",
    "version": 3
   },
   "file_extension": ".py",
   "mimetype": "text/x-python",
   "name": "python",
   "nbconvert_exporter": "python",
   "pygments_lexer": "ipython3",
   "version": "3.12.4"
  }
 },
 "nbformat": 4,
 "nbformat_minor": 4
}
